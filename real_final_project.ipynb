{
 "cells": [
  {
   "cell_type": "code",
   "execution_count": 5,
   "id": "3d2550d4",
   "metadata": {},
   "outputs": [
    {
     "data": {
      "text/plain": [
       "{'tags': {'#text': ' ', '@attr': {'artist': 'Rihanna'}}}"
      ]
     },
     "execution_count": 5,
     "metadata": {},
     "output_type": "execute_result"
    }
   ],
   "source": [
    "import requests\n",
    "import json\n",
    "import os\n",
    "\n",
    "api_key = \"1ba7057ced795b3366b45e4ad3878698\"\n",
    "url = 'https://ws.audioscrobbler.com/2.0/'\n",
    "\n",
    "headers = {\n",
    "    'user-agent': 'Sebastian Sepulveda'\n",
    "}\n",
    "\n",
    "payload = {\n",
    "    'api_key': api_key,\n",
    "    'user': 'sebichulo1',\n",
    "    'method': 'artist.gettags',\n",
    "    'artist': 'Rihanna',\n",
    "    'format': 'json'\n",
    "}\n",
    "\n",
    "r = requests.get('https://ws.audioscrobbler.com/2.0/', headers=headers, params=payload).json()\n",
    "r"
   ]
  },
  {
   "cell_type": "code",
   "execution_count": 6,
   "id": "6f423e39",
   "metadata": {},
   "outputs": [
    {
     "name": "stdout",
     "output_type": "stream",
     "text": [
      "['pop', 'rnb', 'r&b', 'reggae', 'hip hop', 'dancehall', 'soul', 'barbadian', 'electronic', 'dance-pop', 'club', \"r'n'b\", 'electropop', 'party', 'rhythm and blues', 'dance pop', 'beautiful', 'rock', 'pop rock', 'r and b', 'rap', 'hiphop', 'alternative', 'House']\n"
     ]
    }
   ],
   "source": [
    "def get_artist_genres(artist):\n",
    "    headers = {\n",
    "        'user-agent': 'Sebastian Sepulveda'\n",
    "    }\n",
    "\n",
    "    payload = {\n",
    "        'api_key': api_key,\n",
    "        'user': 'sebichulo1',\n",
    "        'method': 'artist.gettoptags',\n",
    "        'artist': artist,\n",
    "        'format': 'json'\n",
    "    }\n",
    "\n",
    "    r = requests.get('https://ws.audioscrobbler.com/2.0/', headers=headers, params=payload).json()\n",
    "    tags = r['toptags']['tag']\n",
    "\n",
    "    genres = ['pop', 'rnb', 'r&b', 'reggae', 'hip hop','dancehall', 'soul', 'barbadian', 'electronic', 'dance-pop', 'club',\n",
    "             \"r'n'b\", 'electropop', 'party', 'rhythm and blues', 'dance pop', 'beautiful', 'rock', 'pop rock', 'r and b', \n",
    "              'rap', 'hiphop', 'House', 'alternative', 'funk', 'dubstep', 'jazz', 'instrumental', 'classical', 'latin',\n",
    "             'kpop']\n",
    "\n",
    "    artist_tags = []\n",
    "\n",
    "    for i in tags:\n",
    "        tag = i['name']\n",
    "        artist_tags.append(tag)\n",
    "\n",
    "    artist_genres = []\n",
    "\n",
    "    for i in artist_tags:\n",
    "        if i in genres:\n",
    "            artist_genres.append(i)\n",
    "\n",
    "    print(artist_genres)\n",
    "    \n",
    "get_artist_genres('Rihanna')"
   ]
  },
  {
   "cell_type": "code",
   "execution_count": 1,
   "id": "75b346de",
   "metadata": {},
   "outputs": [
    {
     "name": "stdout",
     "output_type": "stream",
     "text": [
      "Requirement already satisfied: spotipy in c:\\users\\718se\\anaconda3\\lib\\site-packages (2.23.0)\n",
      "Requirement already satisfied: requests>=2.25.0 in c:\\users\\718se\\anaconda3\\lib\\site-packages (from spotipy) (2.27.1)\n",
      "Requirement already satisfied: redis>=3.5.3 in c:\\users\\718se\\anaconda3\\lib\\site-packages (from spotipy) (4.5.4)\n",
      "Requirement already satisfied: six>=1.15.0 in c:\\users\\718se\\anaconda3\\lib\\site-packages (from spotipy) (1.16.0)\n",
      "Requirement already satisfied: urllib3>=1.26.0 in c:\\users\\718se\\anaconda3\\lib\\site-packages (from spotipy) (1.26.9)\n",
      "Requirement already satisfied: async-timeout>=4.0.2 in c:\\users\\718se\\anaconda3\\lib\\site-packages (from redis>=3.5.3->spotipy) (4.0.2)\n",
      "Requirement already satisfied: charset-normalizer~=2.0.0 in c:\\users\\718se\\anaconda3\\lib\\site-packages (from requests>=2.25.0->spotipy) (2.0.4)\n",
      "Requirement already satisfied: certifi>=2017.4.17 in c:\\users\\718se\\anaconda3\\lib\\site-packages (from requests>=2.25.0->spotipy) (2021.10.8)\n",
      "Requirement already satisfied: idna<4,>=2.5 in c:\\users\\718se\\anaconda3\\lib\\site-packages (from requests>=2.25.0->spotipy) (3.3)\n"
     ]
    }
   ],
   "source": [
    "! pip install spotipy\n",
    "\n",
    "#https://spotipy.readthedocs.io/en/2.22.1/\n",
    "\n",
    "# Import libraries\n",
    "import spotipy\n",
    "import json\n",
    "from spotipy.oauth2 import SpotifyClientCredentials\n",
    "\n",
    "#Required credentials\n",
    "#Spotify Developer credentials from developers.spotify.com\n",
    "client_id = '453a23ede02b4d85acd9468ec7e5132a'\n",
    "client_secret = 'a92af587716847129d1cc432e42f4e4d'\n",
    "redirect_uri = 'http://localhost:8888/callback/' #Not using this though \n",
    "\n",
    "#Authenticate with Spotify\n",
    "client_credentials_manager = SpotifyClientCredentials(client_id=client_id, \n",
    "                                                      client_secret=client_secret)\n",
    "\n",
    "sp = spotipy.Spotify(client_credentials_manager=client_credentials_manager)"
   ]
  },
  {
   "cell_type": "code",
   "execution_count": 2,
   "id": "fc74d4b0",
   "metadata": {},
   "outputs": [
    {
     "name": "stdout",
     "output_type": "stream",
     "text": [
      "{'genres': ['acoustic', 'afrobeat', 'alt-rock', 'alternative', 'ambient', 'anime', 'black-metal', 'bluegrass', 'blues', 'bossanova', 'brazil', 'breakbeat', 'british', 'cantopop', 'chicago-house', 'children', 'chill', 'classical', 'club', 'comedy', 'country', 'dance', 'dancehall', 'death-metal', 'deep-house', 'detroit-techno', 'disco', 'disney', 'drum-and-bass', 'dub', 'dubstep', 'edm', 'electro', 'electronic', 'emo', 'folk', 'forro', 'french', 'funk', 'garage', 'german', 'gospel', 'goth', 'grindcore', 'groove', 'grunge', 'guitar', 'happy', 'hard-rock', 'hardcore', 'hardstyle', 'heavy-metal', 'hip-hop', 'holidays', 'honky-tonk', 'house', 'idm', 'indian', 'indie', 'indie-pop', 'industrial', 'iranian', 'j-dance', 'j-idol', 'j-pop', 'j-rock', 'jazz', 'k-pop', 'kids', 'latin', 'latino', 'malay', 'mandopop', 'metal', 'metal-misc', 'metalcore', 'minimal-techno', 'movies', 'mpb', 'new-age', 'new-release', 'opera', 'pagode', 'party', 'philippines-opm', 'piano', 'pop', 'pop-film', 'post-dubstep', 'power-pop', 'progressive-house', 'psych-rock', 'punk', 'punk-rock', 'r-n-b', 'rainy-day', 'reggae', 'reggaeton', 'road-trip', 'rock', 'rock-n-roll', 'rockabilly', 'romance', 'sad', 'salsa', 'samba', 'sertanejo', 'show-tunes', 'singer-songwriter', 'ska', 'sleep', 'songwriter', 'soul', 'soundtracks', 'spanish', 'study', 'summer', 'swedish', 'synth-pop', 'tango', 'techno', 'trance', 'trip-hop', 'turkish', 'work-out', 'world-music']}\n"
     ]
    }
   ],
   "source": [
    "#https://spotipy.readthedocs.io/en/2.22.1/\n",
    "\n",
    "# Import libraries\n",
    "import spotipy\n",
    "import json\n",
    "from spotipy.oauth2 import SpotifyClientCredentials\n",
    "import requests\n",
    "import pandas as pd\n",
    "from tqdm import tqdm\n",
    "import time\n",
    "\n",
    "\n",
    "#Required credentials\n",
    "#Spotify Developer credentials from developers.spotify.com\n",
    "client_id = '453a23ede02b4d85acd9468ec7e5132a'\n",
    "client_secret = 'a92af587716847129d1cc432e42f4e4d'\n",
    "redirect_uri = 'http://localhost:8888/callback/' #Not using this though \n",
    "\n",
    "#Authenticate with Spotify\n",
    "client_credentials_manager = SpotifyClientCredentials(client_id= client_id, \n",
    "                                                      client_secret= client_secret)\n",
    "\n",
    "sp = spotipy.Spotify(client_credentials_manager= client_credentials_manager)\n",
    "\n",
    "#Get all genres\n",
    "genres = sp.recommendation_genre_seeds()\n",
    "\n",
    "print(genres)\n",
    "\n",
    "#Testing recommendations using genres\n",
    "#rec = sp.recommendations(seed_genres=['acoustic'], limit=10)\n",
    "#rec = sp.recommendations(seed_genres=['pop', 'hip-hop'], limit=10)\n",
    "\n",
    "#Testing recommendations using url\n",
    "#rec = sp.recommendations(seed_artists=['https://open.spotify.com/artist/4iBwchw0U0GZv5RfVYSMxN'], limit=20)\n",
    "\n",
    "#print(rec)\n",
    "#Get 10 recommended tracks based on seed genres and target danceability\n",
    "\n",
    "# Print the name and artist of each track\n",
    "#for track in rec['tracks']:\n",
    " #   print(track['name'], ' - ', track['artists'][0]['name'])"
   ]
  },
  {
   "cell_type": "code",
   "execution_count": 3,
   "id": "2fc8de60",
   "metadata": {
    "scrolled": false
   },
   "outputs": [
    {
     "name": "stdout",
     "output_type": "stream",
     "text": [
      "Please enter a keyword to find an albumlol\n",
      "Apeman - 2020 Stereo Remaster\n"
     ]
    }
   ],
   "source": [
    "import random\n",
    "\n",
    "#4eLPsYPBmXABThSJ821sqY\n",
    "\n",
    "def random_song_from_album():\n",
    "    keyword = str(input(\"Please enter a keyword to find an album\"))\n",
    "    results = sp.search(q = keyword, type= 'album', limit= 1)\n",
    "\n",
    "    for artist in results['albums']['items']:\n",
    "        art_list = artist['id']\n",
    "        \n",
    "    damn = sp.album(art_list)\n",
    "    songs = damn['tracks']['items']\n",
    "\n",
    "    random_songs = []\n",
    "\n",
    "    for i in songs:\n",
    "        song = i['name']\n",
    "        random_songs.append(song)\n",
    "        \n",
    "    random_choice = random.choice(random_songs)\n",
    "    print(random_choice)\n",
    "    \n",
    "random_song_from_album()"
   ]
  },
  {
   "cell_type": "code",
   "execution_count": 13,
   "id": "619aa835",
   "metadata": {
    "scrolled": true
   },
   "outputs": [
    {
     "name": "stdout",
     "output_type": "stream",
     "text": [
      "Please enter a keyword to find an albumdamn\n",
      "4eLPsYPBmXABThSJ821sqY\n"
     ]
    }
   ],
   "source": [
    "import spotipy\n",
    "\n",
    "# find album by name\n",
    "\n",
    "def find_album():\n",
    "    keyword = str(input(\"Please enter a keyword to find an album\"))\n",
    "    results = sp.search(q = keyword, type= 'album', limit= 1)\n",
    "\n",
    "    for artist in results['albums']['items']:\n",
    "        art_list = artist['id']\n",
    "        print(art_list)\n",
    "        \n",
    "    \n",
    "find_album()"
   ]
  },
  {
   "cell_type": "code",
   "execution_count": 14,
   "id": "36197b6b",
   "metadata": {
    "scrolled": false
   },
   "outputs": [
    {
     "data": {
      "text/plain": [
       "'2017-04-14'"
      ]
     },
     "execution_count": 14,
     "metadata": {},
     "output_type": "execute_result"
    }
   ],
   "source": [
    "results = sp.album(\"4eLPsYPBmXABThSJ821sqY\")\n",
    "results\n",
    "\n",
    "results['release_date']"
   ]
  },
  {
   "cell_type": "code",
   "execution_count": 15,
   "id": "fcbf1cc9",
   "metadata": {
    "scrolled": false
   },
   "outputs": [
    {
     "data": {
      "text/plain": [
       "{'categories': {'href': 'https://api.spotify.com/v1/browse/categories?country=US&offset=0&limit=20',\n",
       "  'items': [{'href': 'https://api.spotify.com/v1/browse/categories/toplists',\n",
       "    'icons': [{'height': 275,\n",
       "      'url': 'https://t.scdn.co/media/derived/toplists_11160599e6a04ac5d6f2757f5511778f_0_0_275_275.jpg',\n",
       "      'width': 275}],\n",
       "    'id': 'toplists',\n",
       "    'name': 'Top Lists'},\n",
       "   {'href': 'https://api.spotify.com/v1/browse/categories/0JQ5DAqbMKFQ00XGBls6ym',\n",
       "    'icons': [{'height': 274,\n",
       "      'url': 'https://t.scdn.co/media/original/hip-274_0a661854d61e29eace5fe63f73495e68_274x274.jpg',\n",
       "      'width': 274}],\n",
       "    'id': '0JQ5DAqbMKFQ00XGBls6ym',\n",
       "    'name': 'Hip-Hop'},\n",
       "   {'href': 'https://api.spotify.com/v1/browse/categories/0JQ5DAqbMKFEC4WFtoNRpw',\n",
       "    'icons': [{'height': 274,\n",
       "      'url': 'https://t.scdn.co/media/derived/pop-274x274_447148649685019f5e2a03a39e78ba52_0_0_274_274.jpg',\n",
       "      'width': 274}],\n",
       "    'id': '0JQ5DAqbMKFEC4WFtoNRpw',\n",
       "    'name': 'Pop'},\n",
       "   {'href': 'https://api.spotify.com/v1/browse/categories/0JQ5DAqbMKFKLfwjuJMoNC',\n",
       "    'icons': [{'height': None,\n",
       "      'url': 'https://t.scdn.co/images/a2e0ebe2ebed4566ba1d8236b869241f.jpeg',\n",
       "      'width': None}],\n",
       "    'id': '0JQ5DAqbMKFKLfwjuJMoNC',\n",
       "    'name': 'Country'},\n",
       "   {'href': 'https://api.spotify.com/v1/browse/categories/0JQ5DAqbMKFxXaXKP7zcDp',\n",
       "    'icons': [{'height': None,\n",
       "      'url': 'https://t.scdn.co/images/26a60378-a374-4cd7-b894-28efa5e154cb.jpg',\n",
       "      'width': None}],\n",
       "    'id': '0JQ5DAqbMKFxXaXKP7zcDp',\n",
       "    'name': 'Latin'},\n",
       "   {'href': 'https://api.spotify.com/v1/browse/categories/0JQ5DAqbMKFDXXwE9BDJAr',\n",
       "    'icons': [{'height': 274,\n",
       "      'url': 'https://t.scdn.co/media/derived/rock_9ce79e0a4ef901bbd10494f5b855d3cc_0_0_274_274.jpg',\n",
       "      'width': 274}],\n",
       "    'id': '0JQ5DAqbMKFDXXwE9BDJAr',\n",
       "    'name': 'Rock'},\n",
       "   {'href': 'https://api.spotify.com/v1/browse/categories/0JQ5DAqbMKFLVaM30PMBm4',\n",
       "    'icons': [{'height': None,\n",
       "      'url': 'https://t.scdn.co/images/8e508d7eb5b843a89c368c9507ecc429.jpeg',\n",
       "      'width': None}],\n",
       "    'id': '0JQ5DAqbMKFLVaM30PMBm4',\n",
       "    'name': 'Summer'},\n",
       "   {'href': 'https://api.spotify.com/v1/browse/categories/0JQ5DAqbMKFAXlCG6QvYQ4',\n",
       "    'icons': [{'height': None,\n",
       "      'url': 'https://t.scdn.co/media/links/workout-274x274.jpg',\n",
       "      'width': None}],\n",
       "    'id': '0JQ5DAqbMKFAXlCG6QvYQ4',\n",
       "    'name': 'Workout'},\n",
       "   {'href': 'https://api.spotify.com/v1/browse/categories/0JQ5DAqbMKFEZPnFQSFB1T',\n",
       "    'icons': [{'height': 274,\n",
       "      'url': 'https://t.scdn.co/media/derived/r-b-274x274_fd56efa72f4f63764b011b68121581d8_0_0_274_274.jpg',\n",
       "      'width': 274}],\n",
       "    'id': '0JQ5DAqbMKFEZPnFQSFB1T',\n",
       "    'name': 'R&B'},\n",
       "   {'href': 'https://api.spotify.com/v1/browse/categories/0JQ5DAqbMKFHOzuVTgTizF',\n",
       "    'icons': [{'height': 274,\n",
       "      'url': 'https://t.scdn.co/media/derived/edm-274x274_0ef612604200a9c14995432994455a6d_0_0_274_274.jpg',\n",
       "      'width': 274}],\n",
       "    'id': '0JQ5DAqbMKFHOzuVTgTizF',\n",
       "    'name': 'Dance/Electronic'},\n",
       "   {'href': 'https://api.spotify.com/v1/browse/categories/0JQ5DAqbMKFEOEBCABAxo9',\n",
       "    'icons': [{'height': None,\n",
       "      'url': 'https://t.scdn.co/images/1a416fb97f5647858c7f09c9cb6e7301',\n",
       "      'width': None}],\n",
       "    'id': '0JQ5DAqbMKFEOEBCABAxo9',\n",
       "    'name': 'Netflix'},\n",
       "   {'href': 'https://api.spotify.com/v1/browse/categories/0JQ5DAqbMKFCWjUTdzaG0e',\n",
       "    'icons': [{'height': None,\n",
       "      'url': 'https://t.scdn.co/images/fe06caf056474bc58862591cd60b57fc.jpeg',\n",
       "      'width': None}],\n",
       "    'id': '0JQ5DAqbMKFCWjUTdzaG0e',\n",
       "    'name': 'Indie'},\n",
       "   {'href': 'https://api.spotify.com/v1/browse/categories/0JQ5DAqbMKFzHmL4tf05da',\n",
       "    'icons': [{'height': 274,\n",
       "      'url': 'https://t.scdn.co/media/original/mood-274x274_976986a31ac8c49794cbdc7246fd5ad7_274x274.jpg',\n",
       "      'width': 274}],\n",
       "    'id': '0JQ5DAqbMKFzHmL4tf05da',\n",
       "    'name': 'Mood'},\n",
       "   {'href': 'https://api.spotify.com/v1/browse/categories/0JQ5DAqbMKFCuoRTxhYWow',\n",
       "    'icons': [{'height': 274,\n",
       "      'url': 'https://t.scdn.co/media/derived/sleep-274x274_0d4f836af8fab7bf31526968073e671c_0_0_274_274.jpg',\n",
       "      'width': 274}],\n",
       "    'id': '0JQ5DAqbMKFCuoRTxhYWow',\n",
       "    'name': 'Sleep'},\n",
       "   {'href': 'https://api.spotify.com/v1/browse/categories/0JQ5DAqbMKFy0OenPG51Av',\n",
       "    'icons': [{'height': None,\n",
       "      'url': 'https://t.scdn.co/images/e023f691436b4518aec8c3b18973268e',\n",
       "      'width': None}],\n",
       "    'id': '0JQ5DAqbMKFy0OenPG51Av',\n",
       "    'name': 'Christian & Gospel'},\n",
       "   {'href': 'https://api.spotify.com/v1/browse/categories/0JQ5DAqbMKFDTEtSaS4R92',\n",
       "    'icons': [{'height': None,\n",
       "      'url': 'https://t.scdn.co/images/c765fa1ce6994fce8796d2d0d93c1e61.jpeg',\n",
       "      'width': None}],\n",
       "    'id': '0JQ5DAqbMKFDTEtSaS4R92',\n",
       "    'name': 'Regional Mexican'},\n",
       "   {'href': 'https://api.spotify.com/v1/browse/categories/0JQ5DAqbMKFLb2EqgLtpjC',\n",
       "    'icons': [{'height': None,\n",
       "      'url': 'https://t.scdn.co/images/3710b68657574bc79df14bd74629e5ac',\n",
       "      'width': None}],\n",
       "    'id': '0JQ5DAqbMKFLb2EqgLtpjC',\n",
       "    'name': 'Wellness'},\n",
       "   {'href': 'https://api.spotify.com/v1/browse/categories/0JQ5DAqbMKFFzDl7qN9Apr',\n",
       "    'icons': [{'height': 274,\n",
       "      'url': 'https://t.scdn.co/media/derived/chill-274x274_4c46374f007813dd10b37e8d8fd35b4b_0_0_274_274.jpg',\n",
       "      'width': 274}],\n",
       "    'id': '0JQ5DAqbMKFFzDl7qN9Apr',\n",
       "    'name': 'Chill'},\n",
       "   {'href': 'https://api.spotify.com/v1/browse/categories/0JQ5DAqbMKFPw634sFwguI',\n",
       "    'icons': [{'height': None,\n",
       "      'url': 'https://t.scdn.co/images/084155aeaa724ea1bd393a017d67b709',\n",
       "      'width': None}],\n",
       "    'id': '0JQ5DAqbMKFPw634sFwguI',\n",
       "    'name': 'EQUAL'},\n",
       "   {'href': 'https://api.spotify.com/v1/browse/categories/0JQ5DAqbMKFCfObibaOZbv',\n",
       "    'icons': [{'height': None,\n",
       "      'url': 'https://t.scdn.co/images/0d39395309ba47838ef12ce987f19d16.jpeg',\n",
       "      'width': None}],\n",
       "    'id': '0JQ5DAqbMKFCfObibaOZbv',\n",
       "    'name': 'Gaming'}],\n",
       "  'limit': 20,\n",
       "  'next': 'https://api.spotify.com/v1/browse/categories?country=US&offset=20&limit=20',\n",
       "  'offset': 0,\n",
       "  'previous': None,\n",
       "  'total': 55}}"
      ]
     },
     "execution_count": 15,
     "metadata": {},
     "output_type": "execute_result"
    }
   ],
   "source": [
    "sp.categories(country=\"US\", locale=\"None\", limit=20, offset=0)"
   ]
  },
  {
   "cell_type": "code",
   "execution_count": 7,
   "id": "00f9c44d",
   "metadata": {
    "scrolled": false
   },
   "outputs": [
    {
     "name": "stdout",
     "output_type": "stream",
     "text": [
      "Please enter a decade you would like a song from1970\n",
      "Maybe I’m Amazed - 2011 Remaster\n"
     ]
    }
   ],
   "source": [
    "def get_random_song_from_decade():    \n",
    "    keyword = str(input(\"Please enter a decade you would like a song from\")) \n",
    "    results = sp.search(q = keyword, type= 'playlist', limit= 1)\n",
    "    playlist_id = results['playlists']['items'][0]['id']\n",
    "\n",
    "\n",
    "    results1 = sp.playlist(playlist_id)\n",
    "    results2 = results1['tracks']['items']\n",
    "\n",
    "    throwbacks = []\n",
    "\n",
    "    for i in results2:\n",
    "        song = i['track']['name']\n",
    "        throwbacks.append(song)\n",
    "\n",
    "    random_throwback = random.choice(throwbacks)\n",
    "    print(random_throwback)\n",
    "    \n",
    "get_random_song_from_decade()"
   ]
  },
  {
   "cell_type": "code",
   "execution_count": null,
   "id": "e242d29f",
   "metadata": {},
   "outputs": [],
   "source": []
  }
 ],
 "metadata": {
  "kernelspec": {
   "display_name": "Python 3 (ipykernel)",
   "language": "python",
   "name": "python3"
  },
  "language_info": {
   "codemirror_mode": {
    "name": "ipython",
    "version": 3
   },
   "file_extension": ".py",
   "mimetype": "text/x-python",
   "name": "python",
   "nbconvert_exporter": "python",
   "pygments_lexer": "ipython3",
   "version": "3.9.12"
  }
 },
 "nbformat": 4,
 "nbformat_minor": 5
}
